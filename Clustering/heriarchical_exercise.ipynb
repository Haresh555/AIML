{
 "cells": [
  {
   "cell_type": "code",
   "execution_count": 2,
   "metadata": {},
   "outputs": [
    {
     "name": "stderr",
     "output_type": "stream",
     "text": [
      "C:\\Python\\Anaconda3\\lib\\importlib\\_bootstrap.py:219: RuntimeWarning: numpy.ufunc size changed, may indicate binary incompatibility. Expected 192 from C header, got 216 from PyObject\n",
      "  return f(*args, **kwds)\n",
      "C:\\Python\\Anaconda3\\lib\\importlib\\_bootstrap.py:219: RuntimeWarning: numpy.ufunc size changed, may indicate binary incompatibility. Expected 192 from C header, got 216 from PyObject\n",
      "  return f(*args, **kwds)\n",
      "C:\\Python\\Anaconda3\\lib\\importlib\\_bootstrap.py:219: RuntimeWarning: numpy.ufunc size changed, may indicate binary incompatibility. Expected 192 from C header, got 216 from PyObject\n",
      "  return f(*args, **kwds)\n",
      "C:\\Python\\Anaconda3\\lib\\importlib\\_bootstrap.py:219: RuntimeWarning: numpy.ufunc size changed, may indicate binary incompatibility. Expected 192 from C header, got 216 from PyObject\n",
      "  return f(*args, **kwds)\n",
      "C:\\Python\\Anaconda3\\lib\\importlib\\_bootstrap.py:219: RuntimeWarning: numpy.ufunc size changed, may indicate binary incompatibility. Expected 192 from C header, got 216 from PyObject\n",
      "  return f(*args, **kwds)\n"
     ]
    }
   ],
   "source": [
    "import pandas as pd\n",
    "import numpy as np\n",
    "from sklearn.cluster import KMeans\n",
    "from sklearn.preprocessing import StandardScaler\n",
    "\n",
    "import matplotlib.pyplot as plt\n",
    "\n",
    "from scipy.cluster.hierarchy import cut_tree\n",
    "from scipy.cluster.hierarchy import dendrogram\n",
    "from scipy.cluster.hierarchy import linkage"
   ]
  },
  {
   "cell_type": "code",
   "execution_count": 6,
   "metadata": {},
   "outputs": [],
   "source": [
    "df = pd.read_csv(\"Cricket.csv\", encoding='iso-8859-1')"
   ]
  },
  {
   "cell_type": "code",
   "execution_count": 7,
   "metadata": {
    "scrolled": true
   },
   "outputs": [
    {
     "data": {
      "text/html": [
       "<div>\n",
       "<style scoped>\n",
       "    .dataframe tbody tr th:only-of-type {\n",
       "        vertical-align: middle;\n",
       "    }\n",
       "\n",
       "    .dataframe tbody tr th {\n",
       "        vertical-align: top;\n",
       "    }\n",
       "\n",
       "    .dataframe thead th {\n",
       "        text-align: right;\n",
       "    }\n",
       "</style>\n",
       "<table border=\"1\" class=\"dataframe\">\n",
       "  <thead>\n",
       "    <tr style=\"text-align: right;\">\n",
       "      <th></th>\n",
       "      <th>Player</th>\n",
       "      <th>Span</th>\n",
       "      <th>Mat</th>\n",
       "      <th>Inns</th>\n",
       "      <th>NO</th>\n",
       "      <th>Runs</th>\n",
       "      <th>HS</th>\n",
       "      <th>Ave</th>\n",
       "      <th>BF</th>\n",
       "      <th>SR</th>\n",
       "      <th>100</th>\n",
       "      <th>50</th>\n",
       "      <th>0</th>\n",
       "    </tr>\n",
       "  </thead>\n",
       "  <tbody>\n",
       "    <tr>\n",
       "      <th>0</th>\n",
       "      <td>SR Tendulkar (INDIA)</td>\n",
       "      <td>1989-2012</td>\n",
       "      <td>463</td>\n",
       "      <td>452</td>\n",
       "      <td>41</td>\n",
       "      <td>18426</td>\n",
       "      <td>200*</td>\n",
       "      <td>44.83</td>\n",
       "      <td>21367</td>\n",
       "      <td>86.23</td>\n",
       "      <td>49</td>\n",
       "      <td>96</td>\n",
       "      <td>20</td>\n",
       "    </tr>\n",
       "    <tr>\n",
       "      <th>1</th>\n",
       "      <td>KC Sangakkara (Asia/ICC/SL)</td>\n",
       "      <td>2000-2015</td>\n",
       "      <td>404</td>\n",
       "      <td>380</td>\n",
       "      <td>41</td>\n",
       "      <td>14234</td>\n",
       "      <td>169</td>\n",
       "      <td>41.98</td>\n",
       "      <td>18048</td>\n",
       "      <td>78.86</td>\n",
       "      <td>25</td>\n",
       "      <td>93</td>\n",
       "      <td>15</td>\n",
       "    </tr>\n",
       "    <tr>\n",
       "      <th>2</th>\n",
       "      <td>RT Ponting (AUS/ICC)</td>\n",
       "      <td>1995-2012</td>\n",
       "      <td>375</td>\n",
       "      <td>365</td>\n",
       "      <td>39</td>\n",
       "      <td>13704</td>\n",
       "      <td>164</td>\n",
       "      <td>42.03</td>\n",
       "      <td>17046</td>\n",
       "      <td>80.39</td>\n",
       "      <td>30</td>\n",
       "      <td>82</td>\n",
       "      <td>20</td>\n",
       "    </tr>\n",
       "  </tbody>\n",
       "</table>\n",
       "</div>"
      ],
      "text/plain": [
       "                        Player       Span  Mat  Inns  NO   Runs    HS    Ave  \\\n",
       "0         SR Tendulkar (INDIA)  1989-2012  463   452  41  18426  200*  44.83   \n",
       "1  KC Sangakkara (Asia/ICC/SL)  2000-2015  404   380  41  14234   169  41.98   \n",
       "2         RT Ponting (AUS/ICC)  1995-2012  375   365  39  13704   164  42.03   \n",
       "\n",
       "      BF     SR  100  50   0  \n",
       "0  21367  86.23   49  96  20  \n",
       "1  18048  78.86   25  93  15  \n",
       "2  17046  80.39   30  82  20  "
      ]
     },
     "execution_count": 7,
     "metadata": {},
     "output_type": "execute_result"
    }
   ],
   "source": [
    "df.head(3)"
   ]
  },
  {
   "cell_type": "code",
   "execution_count": 8,
   "metadata": {},
   "outputs": [
    {
     "data": {
      "text/plain": [
       "['1989', '2012']"
      ]
     },
     "execution_count": 8,
     "metadata": {},
     "output_type": "execute_result"
    }
   ],
   "source": [
    "df.Span.str.split('-')[0] "
   ]
  },
  {
   "cell_type": "code",
   "execution_count": 9,
   "metadata": {
    "scrolled": true
   },
   "outputs": [
    {
     "data": {
      "text/plain": [
       "0     23\n",
       "1     15\n",
       "2     17\n",
       "3     22\n",
       "4     17\n",
       "      ..\n",
       "74    16\n",
       "75    13\n",
       "76    10\n",
       "77    11\n",
       "78    15\n",
       "Name: span_yrs, Length: 79, dtype: int64"
      ]
     },
     "execution_count": 9,
     "metadata": {},
     "output_type": "execute_result"
    }
   ],
   "source": [
    "df['span_yrs'] = df.Span.apply(lambda x: int(x.split('-')[1]) -int(x.split('-')[0] ))\n",
    "df['span_yrs']"
   ]
  },
  {
   "cell_type": "code",
   "execution_count": 10,
   "metadata": {
    "scrolled": true
   },
   "outputs": [
    {
     "data": {
      "text/plain": [
       "0     200\n",
       "1     169\n",
       "2     164\n",
       "3     189\n",
       "4     144\n",
       "     ... \n",
       "74    133\n",
       "75     96\n",
       "76    120\n",
       "77    156\n",
       "78    112\n",
       "Name: HS_int, Length: 79, dtype: object"
      ]
     },
     "execution_count": 10,
     "metadata": {},
     "output_type": "execute_result"
    }
   ],
   "source": [
    "df['HS_int'] = df.HS.map(lambda x: x.split('*')[0])\n",
    "df['HS_int'] = df.HS.map(lambda x: x.split('*')[0])\n",
    "\n",
    "df['HS_int'] "
   ]
  },
  {
   "cell_type": "code",
   "execution_count": 11,
   "metadata": {},
   "outputs": [],
   "source": [
    "# removing (statistical) outliers\n",
    "Q1 = df.SR.quantile(0.05)\n",
    "Q3 = df.SR.quantile(0.95)\n",
    "IQR = Q3 - Q1\n",
    "df = df[(df.SR >= Q1 - 1.5*IQR) & (df.SR <= Q3 + 1.5*IQR)]\n",
    "\n",
    "# outlier treatment for recency\n",
    "Q1 = df.Ave.quantile(0.05)\n",
    "Q3 = df.Ave.quantile(0.95)\n",
    "IQR = Q3 - Q1\n",
    "df = df[(df.Ave >= Q1 - 1.5*IQR) & (df.Ave <= Q3 + 1.5*IQR)]\n",
    " \n"
   ]
  },
  {
   "cell_type": "code",
   "execution_count": 12,
   "metadata": {},
   "outputs": [],
   "source": [
    "ss = StandardScaler()\n",
    "df_scale =  df[[  'SR','Ave']]\n",
    "df_ftrnsform = ss.fit_transform(df_scale)\n"
   ]
  },
  {
   "cell_type": "code",
   "execution_count": 13,
   "metadata": {},
   "outputs": [],
   "source": [
    "merged  = linkage(df_ftrnsform , method = \"complete\"  , metric=\"euclidean\")"
   ]
  },
  {
   "cell_type": "code",
   "execution_count": 17,
   "metadata": {},
   "outputs": [
    {
     "data": {
      "image/png": "[encoded data removed]",
      "text/plain": [
       "<Figure size 432x288 with 1 Axes>"
      ]
     },
     "metadata": {
      "needs_background": "light"
     },
     "output_type": "display_data"
    }
   ],
   "source": [
    "dendrogram(merged)\n",
    "plt.show()"
   ]
  },
  {
   "cell_type": "code",
   "execution_count": 23,
   "metadata": {},
   "outputs": [],
   "source": [
    "hc_labels =cut_tree(merged ,n_clusters=4).reshape(-1, )"
   ]
  },
  {
   "cell_type": "code",
   "execution_count": 24,
   "metadata": {},
   "outputs": [
    {
     "data": {
      "text/html": [
       "<div>\n",
       "<style scoped>\n",
       "    .dataframe tbody tr th:only-of-type {\n",
       "        vertical-align: middle;\n",
       "    }\n",
       "\n",
       "    .dataframe tbody tr th {\n",
       "        vertical-align: top;\n",
       "    }\n",
       "\n",
       "    .dataframe thead th {\n",
       "        text-align: right;\n",
       "    }\n",
       "</style>\n",
       "<table border=\"1\" class=\"dataframe\">\n",
       "  <thead>\n",
       "    <tr style=\"text-align: right;\">\n",
       "      <th></th>\n",
       "      <th>Player</th>\n",
       "      <th>Span</th>\n",
       "      <th>Mat</th>\n",
       "      <th>Inns</th>\n",
       "      <th>NO</th>\n",
       "      <th>Runs</th>\n",
       "      <th>HS</th>\n",
       "      <th>Ave</th>\n",
       "      <th>BF</th>\n",
       "      <th>SR</th>\n",
       "      <th>100</th>\n",
       "      <th>50</th>\n",
       "      <th>0</th>\n",
       "      <th>span_yrs</th>\n",
       "      <th>HS_int</th>\n",
       "      <th>hc_labels</th>\n",
       "    </tr>\n",
       "  </thead>\n",
       "  <tbody>\n",
       "    <tr>\n",
       "      <th>0</th>\n",
       "      <td>SR Tendulkar (INDIA)</td>\n",
       "      <td>1989-2012</td>\n",
       "      <td>463</td>\n",
       "      <td>452</td>\n",
       "      <td>41</td>\n",
       "      <td>18426</td>\n",
       "      <td>200*</td>\n",
       "      <td>44.83</td>\n",
       "      <td>21367</td>\n",
       "      <td>86.23</td>\n",
       "      <td>49</td>\n",
       "      <td>96</td>\n",
       "      <td>20</td>\n",
       "      <td>23</td>\n",
       "      <td>200</td>\n",
       "      <td>0</td>\n",
       "    </tr>\n",
       "    <tr>\n",
       "      <th>1</th>\n",
       "      <td>KC Sangakkara (Asia/ICC/SL)</td>\n",
       "      <td>2000-2015</td>\n",
       "      <td>404</td>\n",
       "      <td>380</td>\n",
       "      <td>41</td>\n",
       "      <td>14234</td>\n",
       "      <td>169</td>\n",
       "      <td>41.98</td>\n",
       "      <td>18048</td>\n",
       "      <td>78.86</td>\n",
       "      <td>25</td>\n",
       "      <td>93</td>\n",
       "      <td>15</td>\n",
       "      <td>15</td>\n",
       "      <td>169</td>\n",
       "      <td>0</td>\n",
       "    </tr>\n",
       "    <tr>\n",
       "      <th>2</th>\n",
       "      <td>RT Ponting (AUS/ICC)</td>\n",
       "      <td>1995-2012</td>\n",
       "      <td>375</td>\n",
       "      <td>365</td>\n",
       "      <td>39</td>\n",
       "      <td>13704</td>\n",
       "      <td>164</td>\n",
       "      <td>42.03</td>\n",
       "      <td>17046</td>\n",
       "      <td>80.39</td>\n",
       "      <td>30</td>\n",
       "      <td>82</td>\n",
       "      <td>20</td>\n",
       "      <td>17</td>\n",
       "      <td>164</td>\n",
       "      <td>0</td>\n",
       "    </tr>\n",
       "    <tr>\n",
       "      <th>3</th>\n",
       "      <td>ST Jayasuriya (Asia/SL)</td>\n",
       "      <td>1989-2011</td>\n",
       "      <td>445</td>\n",
       "      <td>433</td>\n",
       "      <td>18</td>\n",
       "      <td>13430</td>\n",
       "      <td>189</td>\n",
       "      <td>32.36</td>\n",
       "      <td>14725</td>\n",
       "      <td>91.20</td>\n",
       "      <td>28</td>\n",
       "      <td>68</td>\n",
       "      <td>34</td>\n",
       "      <td>22</td>\n",
       "      <td>189</td>\n",
       "      <td>1</td>\n",
       "    </tr>\n",
       "    <tr>\n",
       "      <th>4</th>\n",
       "      <td>DPMD Jayawardene (Asia/SL)</td>\n",
       "      <td>1998-2015</td>\n",
       "      <td>448</td>\n",
       "      <td>418</td>\n",
       "      <td>39</td>\n",
       "      <td>12650</td>\n",
       "      <td>144</td>\n",
       "      <td>33.37</td>\n",
       "      <td>16020</td>\n",
       "      <td>78.96</td>\n",
       "      <td>19</td>\n",
       "      <td>77</td>\n",
       "      <td>28</td>\n",
       "      <td>17</td>\n",
       "      <td>144</td>\n",
       "      <td>2</td>\n",
       "    </tr>\n",
       "  </tbody>\n",
       "</table>\n",
       "</div>"
      ],
      "text/plain": [
       "                        Player       Span  Mat  Inns  NO   Runs    HS    Ave  \\\n",
       "0         SR Tendulkar (INDIA)  1989-2012  463   452  41  18426  200*  44.83   \n",
       "1  KC Sangakkara (Asia/ICC/SL)  2000-2015  404   380  41  14234   169  41.98   \n",
       "2         RT Ponting (AUS/ICC)  1995-2012  375   365  39  13704   164  42.03   \n",
       "3      ST Jayasuriya (Asia/SL)  1989-2011  445   433  18  13430   189  32.36   \n",
       "4   DPMD Jayawardene (Asia/SL)  1998-2015  448   418  39  12650   144  33.37   \n",
       "\n",
       "      BF     SR  100  50   0  span_yrs HS_int  hc_labels  \n",
       "0  21367  86.23   49  96  20        23    200          0  \n",
       "1  18048  78.86   25  93  15        15    169          0  \n",
       "2  17046  80.39   30  82  20        17    164          0  \n",
       "3  14725  91.20   28  68  34        22    189          1  \n",
       "4  16020  78.96   19  77  28        17    144          2  "
      ]
     },
     "execution_count": 24,
     "metadata": {},
     "output_type": "execute_result"
    }
   ],
   "source": [
    "df['hc_labels'] = hc_labels\n",
    "df.head()"
   ]
  },
  {
   "cell_type": "code",
   "execution_count": 28,
   "metadata": {},
   "outputs": [
    {
     "data": {
      "text/html": [
       "<div>\n",
       "<style scoped>\n",
       "    .dataframe tbody tr th:only-of-type {\n",
       "        vertical-align: middle;\n",
       "    }\n",
       "\n",
       "    .dataframe tbody tr th {\n",
       "        vertical-align: top;\n",
       "    }\n",
       "\n",
       "    .dataframe thead th {\n",
       "        text-align: right;\n",
       "    }\n",
       "</style>\n",
       "<table border=\"1\" class=\"dataframe\">\n",
       "  <thead>\n",
       "    <tr style=\"text-align: right;\">\n",
       "      <th></th>\n",
       "      <th>Player</th>\n",
       "      <th>Span</th>\n",
       "      <th>Mat</th>\n",
       "      <th>Inns</th>\n",
       "      <th>NO</th>\n",
       "      <th>Runs</th>\n",
       "      <th>HS</th>\n",
       "      <th>Ave</th>\n",
       "      <th>BF</th>\n",
       "      <th>SR</th>\n",
       "      <th>100</th>\n",
       "      <th>50</th>\n",
       "      <th>0</th>\n",
       "      <th>span_yrs</th>\n",
       "      <th>HS_int</th>\n",
       "      <th>hc_labels</th>\n",
       "    </tr>\n",
       "  </thead>\n",
       "  <tbody>\n",
       "    <tr>\n",
       "      <th>25</th>\n",
       "      <td>V Kohli (INDIA)</td>\n",
       "      <td>2008-2017</td>\n",
       "      <td>188</td>\n",
       "      <td>180</td>\n",
       "      <td>29</td>\n",
       "      <td>8146</td>\n",
       "      <td>183</td>\n",
       "      <td>53.94</td>\n",
       "      <td>8952</td>\n",
       "      <td>90.99</td>\n",
       "      <td>27</td>\n",
       "      <td>43</td>\n",
       "      <td>11</td>\n",
       "      <td>9</td>\n",
       "      <td>183</td>\n",
       "      <td>3</td>\n",
       "    </tr>\n",
       "  </tbody>\n",
       "</table>\n",
       "</div>"
      ],
      "text/plain": [
       "             Player       Span  Mat  Inns  NO  Runs   HS    Ave    BF     SR  \\\n",
       "25  V Kohli (INDIA)  2008-2017  188   180  29  8146  183  53.94  8952  90.99   \n",
       "\n",
       "    100  50   0  span_yrs HS_int  hc_labels  \n",
       "25   27  43  11         9    183          3  "
      ]
     },
     "execution_count": 28,
     "metadata": {},
     "output_type": "execute_result"
    }
   ],
   "source": [
    "df.loc[df['Player'].str.contains('Kohli')]"
   ]
  },
  {
   "cell_type": "code",
   "execution_count": 31,
   "metadata": {},
   "outputs": [
    {
     "data": {
      "text/plain": [
       "array(['SR Tendulkar\\xa0(INDIA)', 'KC Sangakkara\\xa0(Asia/ICC/SL)',\n",
       "       'RT Ponting\\xa0(AUS/ICC)', 'Inzamam-ul-Haq\\xa0(Asia/PAK)',\n",
       "       'JH Kallis\\xa0(Afr/ICC/SA)', 'SC Ganguly\\xa0(Asia/INDIA)',\n",
       "       'R Dravid\\xa0(Asia/ICC/INDIA)', 'BC Lara\\xa0(ICC/WI)',\n",
       "       'TM Dilshan\\xa0(SL)', 'Mohammad Yousuf\\xa0(Asia/PAK)',\n",
       "       'CH Gayle\\xa0(ICC/WI)', 'Saeed Anwar\\xa0(PAK)',\n",
       "       'S Chanderpaul\\xa0(WI)', 'Yuvraj Singh\\xa0(Asia/INDIA)',\n",
       "       'DL Haynes\\xa0(WI)', 'MS Atapattu\\xa0(SL)', 'ME Waugh\\xa0(AUS)',\n",
       "       'HH Gibbs\\xa0(SA)', 'MJ Clarke\\xa0(AUS)', 'Javed Miandad\\xa0(PAK)',\n",
       "       'GC Smith\\xa0(Afr/SA)', 'G Kirsten\\xa0(SA)',\n",
       "       'IVA Richards\\xa0(WI)', 'LRPL Taylor\\xa0(NZ)',\n",
       "       'ML Hayden\\xa0(AUS/ICC)', 'DM Jones\\xa0(AUS)', 'DC Boon\\xa0(AUS)',\n",
       "       'RR Sarwan\\xa0(WI)', 'EJG Morgan\\xa0(ENG/IRE)',\n",
       "       'SR Watson\\xa0(AUS)', 'WJ Cronje\\xa0(SA)', 'MJ Guptill\\xa0(NZ)',\n",
       "       'MEK Hussey\\xa0(AUS)', 'RG Sharma\\xa0(INDIA)', 'IR Bell\\xa0(ENG)',\n",
       "       'A Jadeja\\xa0(INDIA)', 'DR Martyn\\xa0(AUS)',\n",
       "       'G Gambhir\\xa0(INDIA)', 'CG Greenidge\\xa0(WI)',\n",
       "       'Misbah-ul-Haq\\xa0(PAK)', 'A Symonds\\xa0(AUS)'], dtype=object)"
      ]
     },
     "execution_count": 31,
     "metadata": {},
     "output_type": "execute_result"
    }
   ],
   "source": [
    "df['Player'].loc[df['hc_labels']==0].unique()"
   ]
  },
  {
   "cell_type": "code",
   "execution_count": 30,
   "metadata": {
    "scrolled": true
   },
   "outputs": [
    {
     "data": {
      "text/plain": [
       "array(['ST Jayasuriya\\xa0(Asia/SL)', 'AC Gilchrist\\xa0(AUS/ICC)',\n",
       "       'V Sehwag\\xa0(Asia/ICC/INDIA)', 'Shahid Afridi\\xa0(Asia/ICC/PAK)',\n",
       "       'BB McCullum\\xa0(NZ)', 'SK Raina\\xa0(INDIA)'], dtype=object)"
      ]
     },
     "execution_count": 30,
     "metadata": {},
     "output_type": "execute_result"
    }
   ],
   "source": [
    "df['Player'].loc[df['hc_labels']==1].unique()"
   ]
  },
  {
   "cell_type": "code",
   "execution_count": 32,
   "metadata": {},
   "outputs": [
    {
     "data": {
      "text/plain": [
       "array(['DPMD Jayawardene\\xa0(Asia/SL)', 'M Azharuddin\\xa0(INDIA)',\n",
       "       'PA de Silva\\xa0(SL)', 'SP Fleming\\xa0(ICC/NZ)',\n",
       "       'SR Waugh\\xa0(AUS)', 'A Ranatunga\\xa0(SL)', 'Younis Khan\\xa0(PAK)',\n",
       "       'Saleem Malik\\xa0(PAK)', 'NJ Astle\\xa0(NZ)', 'A Flower\\xa0(ZIM)',\n",
       "       'Shoaib Malik\\xa0(PAK)', 'GW Flower\\xa0(ZIM)',\n",
       "       'Ijaz Ahmed\\xa0(PAK)', 'AR Border\\xa0(AUS)',\n",
       "       'RB Richardson\\xa0(WI)', 'WU Tharanga\\xa0(Asia/SL)',\n",
       "       'JN Rhodes\\xa0(SA)', 'Mohammad Hafeez\\xa0(PAK)',\n",
       "       'Rameez Raja\\xa0(PAK)', 'CL Hooper\\xa0(WI)',\n",
       "       'Tamim Iqbal\\xa0(BDESH)', 'BRM Taylor\\xa0(ZIM)',\n",
       "       'ADR Campbell\\xa0(ZIM)', 'MN Samuels\\xa0(WI)',\n",
       "       'RS Mahanama\\xa0(SL)', 'PD Collingwood\\xa0(ENG)',\n",
       "       'Abdul Razzaq\\xa0(Asia/PAK)'], dtype=object)"
      ]
     },
     "execution_count": 32,
     "metadata": {},
     "output_type": "execute_result"
    }
   ],
   "source": [
    "df['Player'].loc[df['hc_labels']==2].unique()"
   ]
  },
  {
   "cell_type": "code",
   "execution_count": 33,
   "metadata": {},
   "outputs": [
    {
     "data": {
      "text/plain": [
       "array(['MS Dhoni\\xa0(Asia/INDIA)', 'AB de Villiers\\xa0(Afr/SA)',\n",
       "       'V Kohli\\xa0(INDIA)', 'HM Amla\\xa0(SA)', 'MG Bevan\\xa0(AUS)'],\n",
       "      dtype=object)"
      ]
     },
     "execution_count": 33,
     "metadata": {},
     "output_type": "execute_result"
    }
   ],
   "source": [
    "df['Player'].loc[df['hc_labels']==3].unique()"
   ]
  },
  {
   "cell_type": "code",
   "execution_count": null,
   "metadata": {},
   "outputs": [],
   "source": []
  },
  {
   "cell_type": "code",
   "execution_count": null,
   "metadata": {},
   "outputs": [],
   "source": []
  },
  {
   "cell_type": "code",
   "execution_count": 38,
   "metadata": {
    "scrolled": true
   },
   "outputs": [
    {
     "data": {
      "text/plain": [
       "array([3, 2, 2, 0, 1, 2, 2, 2, 2, 2, 0, 2, 0, 3, 1, 3, 1, 0, 2, 2, 0, 2,\n",
       "       1, 2, 0, 3, 0, 0, 1, 2, 1, 1, 2, 1, 3, 1, 1, 2, 3, 2, 1, 1, 3, 1,\n",
       "       1, 1, 2, 1, 1, 2, 0, 2, 1, 1, 1, 1, 2, 0, 1, 0, 1, 0, 2, 3, 3, 2,\n",
       "       2, 1, 2, 1, 0, 1, 1, 1, 2, 2, 1, 0, 1])"
      ]
     },
     "execution_count": 38,
     "metadata": {},
     "output_type": "execute_result"
    }
   ],
   "source": [
    "kmeans.labels_"
   ]
  },
  {
   "cell_type": "code",
   "execution_count": 42,
   "metadata": {
    "scrolled": false
   },
   "outputs": [
    {
     "data": {
      "text/html": [
       "<div>\n",
       "<style scoped>\n",
       "    .dataframe tbody tr th:only-of-type {\n",
       "        vertical-align: middle;\n",
       "    }\n",
       "\n",
       "    .dataframe tbody tr th {\n",
       "        vertical-align: top;\n",
       "    }\n",
       "\n",
       "    .dataframe thead th {\n",
       "        text-align: right;\n",
       "    }\n",
       "</style>\n",
       "<table border=\"1\" class=\"dataframe\">\n",
       "  <thead>\n",
       "    <tr style=\"text-align: right;\">\n",
       "      <th></th>\n",
       "      <th>Player</th>\n",
       "      <th>SR</th>\n",
       "      <th>Ave</th>\n",
       "      <th>category</th>\n",
       "    </tr>\n",
       "  </thead>\n",
       "  <tbody>\n",
       "    <tr>\n",
       "      <th>25</th>\n",
       "      <td>V Kohli (INDIA)</td>\n",
       "      <td>90.99</td>\n",
       "      <td>53.94</td>\n",
       "      <td>3</td>\n",
       "    </tr>\n",
       "    <tr>\n",
       "      <th>38</th>\n",
       "      <td>MG Bevan (AUS)</td>\n",
       "      <td>74.16</td>\n",
       "      <td>53.58</td>\n",
       "      <td>3</td>\n",
       "    </tr>\n",
       "    <tr>\n",
       "      <th>15</th>\n",
       "      <td>AB de Villiers (Afr/SA)</td>\n",
       "      <td>100.25</td>\n",
       "      <td>53.55</td>\n",
       "      <td>3</td>\n",
       "    </tr>\n",
       "    <tr>\n",
       "      <th>13</th>\n",
       "      <td>MS Dhoni (Asia/INDIA)</td>\n",
       "      <td>88.69</td>\n",
       "      <td>51.32</td>\n",
       "      <td>3</td>\n",
       "    </tr>\n",
       "    <tr>\n",
       "      <th>34</th>\n",
       "      <td>HM Amla (SA)</td>\n",
       "      <td>89.05</td>\n",
       "      <td>50.25</td>\n",
       "      <td>3</td>\n",
       "    </tr>\n",
       "    <tr>\n",
       "      <th>...</th>\n",
       "      <td>...</td>\n",
       "      <td>...</td>\n",
       "      <td>...</td>\n",
       "      <td>...</td>\n",
       "    </tr>\n",
       "    <tr>\n",
       "      <th>71</th>\n",
       "      <td>ADR Campbell (ZIM)</td>\n",
       "      <td>66.18</td>\n",
       "      <td>30.50</td>\n",
       "      <td>1</td>\n",
       "    </tr>\n",
       "    <tr>\n",
       "      <th>50</th>\n",
       "      <td>BB McCullum (NZ)</td>\n",
       "      <td>96.37</td>\n",
       "      <td>30.41</td>\n",
       "      <td>0</td>\n",
       "    </tr>\n",
       "    <tr>\n",
       "      <th>78</th>\n",
       "      <td>Abdul Razzaq (Asia/PAK)</td>\n",
       "      <td>81.25</td>\n",
       "      <td>29.70</td>\n",
       "      <td>1</td>\n",
       "    </tr>\n",
       "    <tr>\n",
       "      <th>73</th>\n",
       "      <td>RS Mahanama (SL)</td>\n",
       "      <td>60.57</td>\n",
       "      <td>29.49</td>\n",
       "      <td>1</td>\n",
       "    </tr>\n",
       "    <tr>\n",
       "      <th>27</th>\n",
       "      <td>Shahid Afridi (Asia/ICC/PAK)</td>\n",
       "      <td>117.00</td>\n",
       "      <td>23.57</td>\n",
       "      <td>0</td>\n",
       "    </tr>\n",
       "  </tbody>\n",
       "</table>\n",
       "<p>79 rows × 4 columns</p>\n",
       "</div>"
      ],
      "text/plain": [
       "                          Player      SR    Ave  category\n",
       "25               V Kohli (INDIA)   90.99  53.94         3\n",
       "38                MG Bevan (AUS)   74.16  53.58         3\n",
       "15       AB de Villiers (Afr/SA)  100.25  53.55         3\n",
       "13         MS Dhoni (Asia/INDIA)   88.69  51.32         3\n",
       "34                  HM Amla (SA)   89.05  50.25         3\n",
       "..                           ...     ...    ...       ...\n",
       "71            ADR Campbell (ZIM)   66.18  30.50         1\n",
       "50              BB McCullum (NZ)   96.37  30.41         0\n",
       "78       Abdul Razzaq (Asia/PAK)   81.25  29.70         1\n",
       "73              RS Mahanama (SL)   60.57  29.49         1\n",
       "27  Shahid Afridi (Asia/ICC/PAK)  117.00  23.57         0\n",
       "\n",
       "[79 rows x 4 columns]"
      ]
     },
     "execution_count": 42,
     "metadata": {},
     "output_type": "execute_result"
    }
   ],
   "source": [
    "df['category'] = kmeans.labels_\n",
    "df[['Player','SR','Ave','category']].sort_values('Ave' ,ascending=False)"
   ]
  },
  {
   "cell_type": "code",
   "execution_count": 43,
   "metadata": {},
   "outputs": [
    {
     "data": {
      "text/plain": [
       "array(['SR Tendulkar\\xa0(INDIA)', 'MS Dhoni\\xa0(Asia/INDIA)',\n",
       "       'AB de Villiers\\xa0(Afr/SA)', 'V Kohli\\xa0(INDIA)',\n",
       "       'HM Amla\\xa0(SA)', 'MG Bevan\\xa0(AUS)', 'IVA Richards\\xa0(WI)',\n",
       "       'MJ Guptill\\xa0(NZ)', 'MEK Hussey\\xa0(AUS)'], dtype=object)"
      ]
     },
     "execution_count": 43,
     "metadata": {},
     "output_type": "execute_result"
    }
   ],
   "source": [
    "df['Player'].loc[df['category'] ==3].unique()"
   ]
  },
  {
   "cell_type": "code",
   "execution_count": 27,
   "metadata": {},
   "outputs": [
    {
     "data": {
      "text/plain": [
       "array(['SR Tendulkar\\xa0(INDIA)', 'KC Sangakkara\\xa0(Asia/ICC/SL)',\n",
       "       'RT Ponting\\xa0(AUS/ICC)', 'ST Jayasuriya\\xa0(Asia/SL)',\n",
       "       'DPMD Jayawardene\\xa0(Asia/SL)', 'Inzamam-ul-Haq\\xa0(Asia/PAK)',\n",
       "       'JH Kallis\\xa0(Afr/ICC/SA)', 'SC Ganguly\\xa0(Asia/INDIA)',\n",
       "       'R Dravid\\xa0(Asia/ICC/INDIA)', 'BC Lara\\xa0(ICC/WI)',\n",
       "       'TM Dilshan\\xa0(SL)', 'Mohammad Yousuf\\xa0(Asia/PAK)',\n",
       "       'AC Gilchrist\\xa0(AUS/ICC)', 'MS Dhoni\\xa0(Asia/INDIA)',\n",
       "       'M Azharuddin\\xa0(INDIA)', 'AB de Villiers\\xa0(Afr/SA)',\n",
       "       'PA de Silva\\xa0(SL)', 'CH Gayle\\xa0(ICC/WI)',\n",
       "       'Saeed Anwar\\xa0(PAK)', 'S Chanderpaul\\xa0(WI)',\n",
       "       'Yuvraj Singh\\xa0(Asia/INDIA)', 'DL Haynes\\xa0(WI)',\n",
       "       'MS Atapattu\\xa0(SL)', 'ME Waugh\\xa0(AUS)',\n",
       "       'V Sehwag\\xa0(Asia/ICC/INDIA)', 'V Kohli\\xa0(INDIA)',\n",
       "       'HH Gibbs\\xa0(SA)', 'Shahid Afridi\\xa0(Asia/ICC/PAK)',\n",
       "       'SP Fleming\\xa0(ICC/NZ)', 'MJ Clarke\\xa0(AUS)',\n",
       "       'SR Waugh\\xa0(AUS)', 'A Ranatunga\\xa0(SL)',\n",
       "       'Javed Miandad\\xa0(PAK)', 'Younis Khan\\xa0(PAK)',\n",
       "       'HM Amla\\xa0(SA)', 'Saleem Malik\\xa0(PAK)', 'NJ Astle\\xa0(NZ)',\n",
       "       'GC Smith\\xa0(Afr/SA)', 'MG Bevan\\xa0(AUS)', 'G Kirsten\\xa0(SA)',\n",
       "       'A Flower\\xa0(ZIM)', 'Shoaib Malik\\xa0(PAK)',\n",
       "       'IVA Richards\\xa0(WI)', 'GW Flower\\xa0(ZIM)',\n",
       "       'Ijaz Ahmed\\xa0(PAK)', 'AR Border\\xa0(AUS)', 'LRPL Taylor\\xa0(NZ)',\n",
       "       'RB Richardson\\xa0(WI)', 'WU Tharanga\\xa0(Asia/SL)',\n",
       "       'ML Hayden\\xa0(AUS/ICC)', 'BB McCullum\\xa0(NZ)',\n",
       "       'DM Jones\\xa0(AUS)', 'DC Boon\\xa0(AUS)', 'JN Rhodes\\xa0(SA)',\n",
       "       'Mohammad Hafeez\\xa0(PAK)', 'Rameez Raja\\xa0(PAK)',\n",
       "       'RR Sarwan\\xa0(WI)', 'EJG Morgan\\xa0(ENG/IRE)',\n",
       "       'CL Hooper\\xa0(WI)', 'SR Watson\\xa0(AUS)',\n",
       "       'Tamim Iqbal\\xa0(BDESH)', 'SK Raina\\xa0(INDIA)',\n",
       "       'WJ Cronje\\xa0(SA)', 'MJ Guptill\\xa0(NZ)', 'MEK Hussey\\xa0(AUS)',\n",
       "       'RG Sharma\\xa0(INDIA)', 'IR Bell\\xa0(ENG)', 'A Jadeja\\xa0(INDIA)',\n",
       "       'DR Martyn\\xa0(AUS)', 'BRM Taylor\\xa0(ZIM)',\n",
       "       'G Gambhir\\xa0(INDIA)', 'ADR Campbell\\xa0(ZIM)',\n",
       "       'MN Samuels\\xa0(WI)', 'RS Mahanama\\xa0(SL)',\n",
       "       'CG Greenidge\\xa0(WI)', 'Misbah-ul-Haq\\xa0(PAK)',\n",
       "       'PD Collingwood\\xa0(ENG)', 'A Symonds\\xa0(AUS)',\n",
       "       'Abdul Razzaq\\xa0(Asia/PAK)'], dtype=object)"
      ]
     },
     "execution_count": 27,
     "metadata": {},
     "output_type": "execute_result"
    }
   ],
   "source": [
    "df['Player'].unique()"
   ]
  }
 ],
 "metadata": {
  "kernelspec": {
   "display_name": "Python 3",
   "language": "python",
   "name": "python3"
  },
  "language_info": {
   "codemirror_mode": {
    "name": "ipython",
    "version": 3
   },
   "file_extension": ".py",
   "mimetype": "text/x-python",
   "name": "python",
   "nbconvert_exporter": "python",
   "pygments_lexer": "ipython3",
   "version": "3.7.1"
  }
 },
 "nbformat": 4,
 "nbformat_minor": 4
}
