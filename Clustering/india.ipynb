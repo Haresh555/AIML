{
 "cells": [
  {
   "cell_type": "code",
   "execution_count": 1,
   "metadata": {},
   "outputs": [],
   "source": [
    "import pandas as pd\n",
    "import numpy as np"
   ]
  },
  {
   "cell_type": "code",
   "execution_count": 5,
   "metadata": {},
   "outputs": [],
   "source": [
    "df = pd.read_excel('Main.xlsx' ,engine='openpyxl')"
   ]
  },
  {
   "cell_type": "code",
   "execution_count": 7,
   "metadata": {},
   "outputs": [
    {
     "data": {
      "text/html": [
       "<div>\n",
       "<style scoped>\n",
       "    .dataframe tbody tr th:only-of-type {\n",
       "        vertical-align: middle;\n",
       "    }\n",
       "\n",
       "    .dataframe tbody tr th {\n",
       "        vertical-align: top;\n",
       "    }\n",
       "\n",
       "    .dataframe thead th {\n",
       "        text-align: right;\n",
       "    }\n",
       "</style>\n",
       "<table border=\"1\" class=\"dataframe\">\n",
       "  <thead>\n",
       "    <tr style=\"text-align: right;\">\n",
       "      <th></th>\n",
       "      <th>Illiterate</th>\n",
       "      <th>Graduate &amp; above</th>\n",
       "      <th>Total - Population</th>\n",
       "      <th>Percentage Illiterate</th>\n",
       "      <th>Percentage Graduate &amp; above</th>\n",
       "    </tr>\n",
       "  </thead>\n",
       "  <tbody>\n",
       "    <tr>\n",
       "      <th>count</th>\n",
       "      <td>3.500000e+01</td>\n",
       "      <td>3.500000e+01</td>\n",
       "      <td>3.500000e+01</td>\n",
       "      <td>35.000000</td>\n",
       "      <td>35.000000</td>\n",
       "    </tr>\n",
       "    <tr>\n",
       "      <th>mean</th>\n",
       "      <td>7.678103e+06</td>\n",
       "      <td>1.075194e+06</td>\n",
       "      <td>3.459586e+07</td>\n",
       "      <td>20.101981</td>\n",
       "      <td>3.483161</td>\n",
       "    </tr>\n",
       "    <tr>\n",
       "      <th>std</th>\n",
       "      <td>1.133721e+07</td>\n",
       "      <td>1.399289e+06</td>\n",
       "      <td>4.445234e+07</td>\n",
       "      <td>5.762072</td>\n",
       "      <td>1.661141</td>\n",
       "    </tr>\n",
       "    <tr>\n",
       "      <th>min</th>\n",
       "      <td>8.337000e+03</td>\n",
       "      <td>1.482000e+03</td>\n",
       "      <td>6.447300e+04</td>\n",
       "      <td>11.176535</td>\n",
       "      <td>1.454525</td>\n",
       "    </tr>\n",
       "    <tr>\n",
       "      <th>25%</th>\n",
       "      <td>3.098615e+05</td>\n",
       "      <td>5.948800e+04</td>\n",
       "      <td>1.421136e+06</td>\n",
       "      <td>16.076337</td>\n",
       "      <td>2.333452</td>\n",
       "    </tr>\n",
       "    <tr>\n",
       "      <th>50%</th>\n",
       "      <td>3.378518e+06</td>\n",
       "      <td>5.253010e+05</td>\n",
       "      <td>1.678794e+07</td>\n",
       "      <td>19.405567</td>\n",
       "      <td>3.073549</td>\n",
       "    </tr>\n",
       "    <tr>\n",
       "      <th>75%</th>\n",
       "      <td>1.036886e+07</td>\n",
       "      <td>1.596484e+06</td>\n",
       "      <td>6.076749e+07</td>\n",
       "      <td>24.170387</td>\n",
       "      <td>4.106503</td>\n",
       "    </tr>\n",
       "    <tr>\n",
       "      <th>max</th>\n",
       "      <td>5.422576e+07</td>\n",
       "      <td>5.741485e+06</td>\n",
       "      <td>1.998123e+08</td>\n",
       "      <td>33.460356</td>\n",
       "      <td>8.648065</td>\n",
       "    </tr>\n",
       "  </tbody>\n",
       "</table>\n",
       "</div>"
      ],
      "text/plain": [
       "         Illiterate  Graduate & above  Total - Population  \\\n",
       "count  3.500000e+01      3.500000e+01        3.500000e+01   \n",
       "mean   7.678103e+06      1.075194e+06        3.459586e+07   \n",
       "std    1.133721e+07      1.399289e+06        4.445234e+07   \n",
       "min    8.337000e+03      1.482000e+03        6.447300e+04   \n",
       "25%    3.098615e+05      5.948800e+04        1.421136e+06   \n",
       "50%    3.378518e+06      5.253010e+05        1.678794e+07   \n",
       "75%    1.036886e+07      1.596484e+06        6.076749e+07   \n",
       "max    5.422576e+07      5.741485e+06        1.998123e+08   \n",
       "\n",
       "       Percentage Illiterate  Percentage Graduate & above  \n",
       "count              35.000000                    35.000000  \n",
       "mean               20.101981                     3.483161  \n",
       "std                 5.762072                     1.661141  \n",
       "min                11.176535                     1.454525  \n",
       "25%                16.076337                     2.333452  \n",
       "50%                19.405567                     3.073549  \n",
       "75%                24.170387                     4.106503  \n",
       "max                33.460356                     8.648065  "
      ]
     },
     "execution_count": 7,
     "metadata": {},
     "output_type": "execute_result"
    }
   ],
   "source": [
    "df.describe()"
   ]
  }
 ],
 "metadata": {
  "kernelspec": {
   "display_name": "Python 3",
   "language": "python",
   "name": "python3"
  },
  "language_info": {
   "codemirror_mode": {
    "name": "ipython",
    "version": 3
   },
   "file_extension": ".py",
   "mimetype": "text/x-python",
   "name": "python",
   "nbconvert_exporter": "python",
   "pygments_lexer": "ipython3",
   "version": "3.7.1"
  }
 },
 "nbformat": 4,
 "nbformat_minor": 4
}
